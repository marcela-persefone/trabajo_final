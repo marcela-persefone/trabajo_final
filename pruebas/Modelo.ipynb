{
 "cells": [
  {
   "cell_type": "code",
   "execution_count": null,
   "id": "636a388a",
   "metadata": {},
   "outputs": [],
   "source": [
    "import pandas as pd\n",
    "import numpy as np\n",
    "import seaborn as sns\n",
    "import matplotlib.pyplot as plt\n",
    "\n",
    "from sklearn.model_selection import train_test_split, cross_val_score\n",
    "from sklearn.preprocessing import MinMaxScaler\n",
    "from sklearn.impute import SimpleImputer\n",
    "from sklearn.ensemble import RandomForestClassifier\n",
    "from sklearn.linear_model import LogisticRegression\n",
    "from sklearn.neighbors import KNeighborsClassifier\n",
    "from sklearn.tree import DecisionTreeClassifier, plot_tree\n",
    "\n",
    "from sklearn.metrics import (\n",
    "    accuracy_score,\n",
    "    classification_report,\n",
    "    confusion_matrix,\n",
    "    ConfusionMatrixDisplay,\n",
    "    roc_curve,\n",
    "    roc_auc_score\n",
    ")\n",
    "\n",
    "# Cargar dataset\n",
    "df = pd.read_csv(\"retail_data_sample.csv\")\n",
    "df[\"compra_online\"] = (df[\"online_purchases\"] > df[\"in_store_purchases\"]).astype(int)\n"
   ]
  },
  {
   "cell_type": "code",
   "execution_count": null,
   "id": "5fb138ee",
   "metadata": {},
   "outputs": [],
   "source": [
    "selected_features = [\n",
    "    \"age\", \"gender\", \"income_bracket\", \"education_level\",\n",
    "    \"purchase_frequency\", \"avg_discount_used\", \"preferred_store\",\n",
    "    \"avg_items_per_transaction\", \"app_usage\", \"website_visits\",\n",
    "    \"social_media_engagement\", \"season\"\n",
    "]\n",
    "\n",
    "df_model = df[selected_features + [\"compra_online\"]].copy()\n",
    "\n",
    "num_cols = df_model.select_dtypes(include=[\"float64\", \"int64\"]).columns\n",
    "imputer = SimpleImputer(strategy=\"median\")\n",
    "df_model[num_cols] = imputer.fit_transform(df_model[num_cols])\n",
    "\n",
    "df_model = pd.get_dummies(df_model, drop_first=True)\n",
    "\n",
    "X = df_model.drop(columns=[\"compra_online\"])\n",
    "y = df_model[\"compra_online\"]\n",
    "\n",
    "scaler = MinMaxScaler()\n",
    "X_scaled = scaler.fit_transform(X)\n",
    "\n",
    "X_train, X_test, y_train, y_test = train_test_split(X_scaled, y, test_size=0.3, random_state=42)\n"
   ]
  },
  {
   "cell_type": "code",
   "execution_count": null,
   "id": "00ecde52",
   "metadata": {},
   "outputs": [],
   "source": [
    "rf_model = RandomForestClassifier(random_state=42)\n",
    "rf_model.fit(X_train, y_train)\n",
    "rf_pred = rf_model.predict(X_test)\n",
    "\n",
    "print(\"🌲 Random Forest Accuracy:\", round(accuracy_score(y_test, rf_pred), 4))\n",
    "print(classification_report(y_test, rf_pred))\n"
   ]
  },
  {
   "cell_type": "code",
   "execution_count": null,
   "id": "cd340353",
   "metadata": {},
   "outputs": [],
   "source": [
    "# Mapa de calor de correlaciones entre variables numéricas seleccionadas\n",
    "numeric_df = df_model.select_dtypes(include=[\"float64\", \"int64\"])\n",
    "corr = numeric_df.corr()\n",
    "\n",
    "plt.figure(figsize=(10, 6))\n",
    "sns.heatmap(corr, annot=True, cmap=\"coolwarm\", fmt=\".2f\", linewidths=0.5)\n",
    "plt.title(\"Mapa de calor de correlación numérica\")\n",
    "plt.tight_layout()\n",
    "plt.show()\n"
   ]
  },
  {
   "cell_type": "code",
   "execution_count": null,
   "id": "3721e44b",
   "metadata": {},
   "outputs": [],
   "source": [
    "# Histograma de distribución de la edad\n",
    "plt.figure(figsize=(8, 4))\n",
    "sns.histplot(df['age'], kde=True, bins=30)\n",
    "plt.title('Distribución de Edad')\n",
    "plt.xlabel('Edad')\n",
    "plt.ylabel('Frecuencia')\n",
    "plt.grid(True)\n",
    "plt.show()\n"
   ]
  },
  {
   "cell_type": "code",
   "execution_count": null,
   "id": "7cb89b9c",
   "metadata": {},
   "outputs": [],
   "source": [
    "# Boxplot del valor promedio de ítems por transacción vs preferencia de compra\n",
    "plt.figure(figsize=(8, 5))\n",
    "sns.boxplot(data=df, x=\"compra_online\", y=\"avg_items_per_transaction\")\n",
    "plt.title(\"Promedio de Ítems por Transacción vs Preferencia de Compra\")\n",
    "plt.xlabel(\"Compra Online (1=Sí)\")\n",
    "plt.ylabel(\"Ítems por Transacción\")\n",
    "plt.grid(True)\n",
    "plt.show()\n"
   ]
  },
  {
   "cell_type": "code",
   "execution_count": null,
   "id": "5415ba90",
   "metadata": {},
   "outputs": [],
   "source": [
    "# Barras de frecuencia por nivel educativo\n",
    "plt.figure(figsize=(8, 4))\n",
    "sns.countplot(data=df, x=\"education_level\", order=df[\"education_level\"].value_counts().index)\n",
    "plt.title(\"Frecuencia por Nivel Educativo\")\n",
    "plt.xlabel(\"Nivel Educativo\")\n",
    "plt.ylabel(\"Cantidad de Clientes\")\n",
    "plt.xticks(rotation=45)\n",
    "plt.grid(True)\n",
    "plt.show()\n"
   ]
  },
  {
   "cell_type": "code",
   "execution_count": null,
   "id": "de96b6ef",
   "metadata": {},
   "outputs": [],
   "source": [
    "# Comparación de visitas al sitio web entre grupos de compra\n",
    "plt.figure(figsize=(8, 5))\n",
    "sns.violinplot(data=df, x=\"compra_online\", y=\"website_visits\", inner=\"quartile\")\n",
    "plt.title(\"Visitas al Sitio Web según Preferencia de Compra\")\n",
    "plt.xlabel(\"Compra Online (1=Sí)\")\n",
    "plt.ylabel(\"Visitas al Sitio Web\")\n",
    "plt.grid(True)\n",
    "plt.show()\n"
   ]
  },
  {
   "cell_type": "code",
   "execution_count": null,
   "id": "bdbb3e49",
   "metadata": {},
   "outputs": [],
   "source": [
    "log_model = LogisticRegression(max_iter=300)\n",
    "log_model.fit(X_train, y_train)\n",
    "log_pred = log_model.predict(X_test)\n",
    "log_prob = log_model.predict_proba(X_test)[:, 1]\n",
    "\n",
    "print(\"📊 Logistic Regression Accuracy:\", round(accuracy_score(y_test, log_pred), 4))\n",
    "print(classification_report(y_test, log_pred))\n"
   ]
  },
  {
   "cell_type": "code",
   "execution_count": null,
   "id": "e795c872",
   "metadata": {},
   "outputs": [],
   "source": [
    "knn_model = KNeighborsClassifier(n_neighbors=5)\n",
    "knn_model.fit(X_train, y_train)\n",
    "knn_pred = knn_model.predict(X_test)\n",
    "\n",
    "print(\"🔎 KNN Accuracy:\", round(accuracy_score(y_test, knn_pred), 4))\n",
    "print(classification_report(y_test, knn_pred))\n"
   ]
  },
  {
   "cell_type": "code",
   "execution_count": null,
   "id": "879512c0",
   "metadata": {},
   "outputs": [],
   "source": [
    "tree_model = DecisionTreeClassifier(random_state=42)\n",
    "tree_model.fit(X_train, y_train)\n",
    "tree_pred = tree_model.predict(X_test)\n",
    "\n",
    "print(\"🌳 Árbol de Decisión Accuracy:\", round(accuracy_score(y_test, tree_pred), 4))\n",
    "print(classification_report(y_test, tree_pred))\n",
    "\n",
    "plt.figure(figsize=(14, 6))\n",
    "plot_tree(tree_model, filled=True, max_depth=3, feature_names=X.columns, class_names=[\"Tienda\", \"Online\"])\n",
    "plt.title(\"Árbol de Decisión (primeros niveles)\")\n",
    "plt.show()\n"
   ]
  },
  {
   "cell_type": "code",
   "execution_count": null,
   "id": "a56f9df4",
   "metadata": {},
   "outputs": [],
   "source": [
    "fpr, tpr, _ = roc_curve(y_test, log_prob)\n",
    "roc_auc = roc_auc_score(y_test, log_prob)\n",
    "\n",
    "plt.figure(figsize=(8, 5))\n",
    "plt.plot(fpr, tpr, label=f'ROC curve (AUC = {roc_auc:.2f})')\n",
    "plt.plot([0, 1], [0, 1], 'k--')\n",
    "plt.xlabel('Falsos Positivos')\n",
    "plt.ylabel('Verdaderos Positivos')\n",
    "plt.title('Curva ROC - Regresión Logística')\n",
    "plt.legend()\n",
    "plt.grid(True)\n",
    "plt.show()\n",
    "\n",
    "ConfusionMatrixDisplay.from_estimator(log_model, X_test, y_test, cmap=\"Blues\")\n",
    "plt.title(\"Matriz de Confusión - Regresión Logística\")\n",
    "plt.show()\n"
   ]
  },
  {
   "cell_type": "code",
   "execution_count": null,
   "id": "87a538cd",
   "metadata": {},
   "outputs": [],
   "source": [
    "importances = rf_model.feature_importances_\n",
    "features = X.columns\n",
    "feat_importance = pd.Series(importances, index=features).sort_values(ascending=False)\n",
    "\n",
    "plt.figure(figsize=(10, 6))\n",
    "sns.barplot(x=feat_importance.values, y=feat_importance.index)\n",
    "plt.title(\"Importancia de variables (Random Forest)\")\n",
    "plt.xlabel(\"Importancia\")\n",
    "plt.ylabel(\"Variable\")\n",
    "plt.tight_layout()\n",
    "plt.show()\n"
   ]
  },
  {
   "cell_type": "code",
   "execution_count": null,
   "id": "6b604bdf",
   "metadata": {},
   "outputs": [],
   "source": [
    "models = {\n",
    "    \"Random Forest\": rf_model,\n",
    "    \"Regresión Logística\": LogisticRegression(max_iter=300),\n",
    "    \"KNN\": KNeighborsClassifier(),\n",
    "    \"Árbol de Decisión\": DecisionTreeClassifier()\n",
    "}\n",
    "\n",
    "print(\"📊 Comparación de exactitud (Validación Cruzada - 5 folds):\\n\")\n",
    "for name, model in models.items():\n",
    "    scores = cross_val_score(model, X_scaled, y, cv=5, scoring=\"accuracy\")\n",
    "    print(f\"{name:20}: {scores.mean():.3f} ± {scores.std():.3f}\")\n"
   ]
  }
 ],
 "metadata": {},
 "nbformat": 4,
 "nbformat_minor": 5
}
